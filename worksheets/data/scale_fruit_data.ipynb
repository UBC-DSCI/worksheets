{
 "cells": [
  {
   "cell_type": "code",
   "execution_count": 15,
   "metadata": {},
   "outputs": [
    {
     "name": "stderr",
     "output_type": "stream",
     "text": [
      "Parsed with column specification:\n",
      "cols(\n",
      "  fruit_label = col_integer(),\n",
      "  fruit_name = col_character(),\n",
      "  fruit_subtype = col_character(),\n",
      "  mass = col_integer(),\n",
      "  width = col_double(),\n",
      "  height = col_double(),\n",
      "  color_score = col_double()\n",
      ")\n"
     ]
    },
    {
     "data": {
      "text/html": [
       "<table>\n",
       "<thead><tr><th scope=col>fruit_label</th><th scope=col>fruit_name</th><th scope=col>fruit_subtype</th><th scope=col>mass</th><th scope=col>width</th><th scope=col>height</th><th scope=col>color_score</th></tr></thead>\n",
       "<tbody>\n",
       "\t<tr><td>1           </td><td>apple       </td><td>granny_smith</td><td>192         </td><td>8.4         </td><td>7.3         </td><td>0.55        </td></tr>\n",
       "\t<tr><td>1           </td><td>apple       </td><td>granny_smith</td><td>180         </td><td>8.0         </td><td>6.8         </td><td>0.59        </td></tr>\n",
       "\t<tr><td>1           </td><td>apple       </td><td>granny_smith</td><td>176         </td><td>7.4         </td><td>7.2         </td><td>0.60        </td></tr>\n",
       "\t<tr><td>2           </td><td>mandarin    </td><td>mandarin    </td><td> 86         </td><td>6.2         </td><td>4.7         </td><td>0.80        </td></tr>\n",
       "\t<tr><td>2           </td><td>mandarin    </td><td>mandarin    </td><td> 84         </td><td>6.0         </td><td>4.6         </td><td>0.79        </td></tr>\n",
       "\t<tr><td>2           </td><td>mandarin    </td><td>mandarin    </td><td> 80         </td><td>5.8         </td><td>4.3         </td><td>0.77        </td></tr>\n",
       "</tbody>\n",
       "</table>\n"
      ],
      "text/latex": [
       "\\begin{tabular}{r|lllllll}\n",
       " fruit\\_label & fruit\\_name & fruit\\_subtype & mass & width & height & color\\_score\\\\\n",
       "\\hline\n",
       "\t 1              & apple          & granny\\_smith & 192            & 8.4            & 7.3            & 0.55          \\\\\n",
       "\t 1              & apple          & granny\\_smith & 180            & 8.0            & 6.8            & 0.59          \\\\\n",
       "\t 1              & apple          & granny\\_smith & 176            & 7.4            & 7.2            & 0.60          \\\\\n",
       "\t 2            & mandarin     & mandarin     &  86          & 6.2          & 4.7          & 0.80        \\\\\n",
       "\t 2            & mandarin     & mandarin     &  84          & 6.0          & 4.6          & 0.79        \\\\\n",
       "\t 2            & mandarin     & mandarin     &  80          & 5.8          & 4.3          & 0.77        \\\\\n",
       "\\end{tabular}\n"
      ],
      "text/markdown": [
       "\n",
       "fruit_label | fruit_name | fruit_subtype | mass | width | height | color_score | \n",
       "|---|---|---|---|---|---|\n",
       "| 1            | apple        | granny_smith | 192          | 8.4          | 7.3          | 0.55         | \n",
       "| 1            | apple        | granny_smith | 180          | 8.0          | 6.8          | 0.59         | \n",
       "| 1            | apple        | granny_smith | 176          | 7.4          | 7.2          | 0.60         | \n",
       "| 2            | mandarin     | mandarin     |  86          | 6.2          | 4.7          | 0.80         | \n",
       "| 2            | mandarin     | mandarin     |  84          | 6.0          | 4.6          | 0.79         | \n",
       "| 2            | mandarin     | mandarin     |  80          | 5.8          | 4.3          | 0.77         | \n",
       "\n",
       "\n"
      ],
      "text/plain": [
       "  fruit_label fruit_name fruit_subtype mass width height color_score\n",
       "1 1           apple      granny_smith  192  8.4   7.3    0.55       \n",
       "2 1           apple      granny_smith  180  8.0   6.8    0.59       \n",
       "3 1           apple      granny_smith  176  7.4   7.2    0.60       \n",
       "4 2           mandarin   mandarin       86  6.2   4.7    0.80       \n",
       "5 2           mandarin   mandarin       84  6.0   4.6    0.79       \n",
       "6 2           mandarin   mandarin       80  5.8   4.3    0.77       "
      ]
     },
     "metadata": {},
     "output_type": "display_data"
    },
    {
     "data": {
      "text/html": [
       "<table>\n",
       "<thead><tr><th scope=col>fruit_label</th><th scope=col>fruit_name</th><th scope=col>fruit_subtype</th><th scope=col>scaled_mass</th><th scope=col>scaled_width</th><th scope=col>scaled_height</th><th scope=col>scaled_color</th></tr></thead>\n",
       "<tbody>\n",
       "\t<tr><td>1           </td><td>apple       </td><td>granny_smith</td><td> 0.5249358  </td><td> 1.5850841  </td><td>-0.2889166  </td><td>-2.76981970 </td></tr>\n",
       "\t<tr><td>1           </td><td>apple       </td><td>granny_smith</td><td> 0.3068287  </td><td> 1.0954508  </td><td>-0.6562889  </td><td>-2.24937587 </td></tr>\n",
       "\t<tr><td>1           </td><td>apple       </td><td>granny_smith</td><td> 0.2341263  </td><td> 0.3610008  </td><td>-0.3623910  </td><td>-2.11926491 </td></tr>\n",
       "\t<tr><td>2           </td><td>mandarin    </td><td>mandarin    </td><td>-1.4016772  </td><td>-1.1078991  </td><td>-2.1992529  </td><td> 0.48295423 </td></tr>\n",
       "\t<tr><td>2           </td><td>mandarin    </td><td>mandarin    </td><td>-1.4380284  </td><td>-1.3527158  </td><td>-2.2727273  </td><td> 0.35284327 </td></tr>\n",
       "\t<tr><td>2           </td><td>mandarin    </td><td>mandarin    </td><td>-1.5107308  </td><td>-1.5975324  </td><td>-2.4931508  </td><td> 0.09262136 </td></tr>\n",
       "</tbody>\n",
       "</table>\n"
      ],
      "text/latex": [
       "\\begin{tabular}{r|lllllll}\n",
       " fruit\\_label & fruit\\_name & fruit\\_subtype & scaled\\_mass & scaled\\_width & scaled\\_height & scaled\\_color\\\\\n",
       "\\hline\n",
       "\t 1              & apple          & granny\\_smith &  0.5249358     &  1.5850841     & -0.2889166     & -2.76981970   \\\\\n",
       "\t 1              & apple          & granny\\_smith &  0.3068287     &  1.0954508     & -0.6562889     & -2.24937587   \\\\\n",
       "\t 1              & apple          & granny\\_smith &  0.2341263     &  0.3610008     & -0.3623910     & -2.11926491   \\\\\n",
       "\t 2            & mandarin     & mandarin     & -1.4016772   & -1.1078991   & -2.1992529   &  0.48295423 \\\\\n",
       "\t 2            & mandarin     & mandarin     & -1.4380284   & -1.3527158   & -2.2727273   &  0.35284327 \\\\\n",
       "\t 2            & mandarin     & mandarin     & -1.5107308   & -1.5975324   & -2.4931508   &  0.09262136 \\\\\n",
       "\\end{tabular}\n"
      ],
      "text/markdown": [
       "\n",
       "fruit_label | fruit_name | fruit_subtype | scaled_mass | scaled_width | scaled_height | scaled_color | \n",
       "|---|---|---|---|---|---|\n",
       "| 1            | apple        | granny_smith |  0.5249358   |  1.5850841   | -0.2889166   | -2.76981970  | \n",
       "| 1            | apple        | granny_smith |  0.3068287   |  1.0954508   | -0.6562889   | -2.24937587  | \n",
       "| 1            | apple        | granny_smith |  0.2341263   |  0.3610008   | -0.3623910   | -2.11926491  | \n",
       "| 2            | mandarin     | mandarin     | -1.4016772   | -1.1078991   | -2.1992529   |  0.48295423  | \n",
       "| 2            | mandarin     | mandarin     | -1.4380284   | -1.3527158   | -2.2727273   |  0.35284327  | \n",
       "| 2            | mandarin     | mandarin     | -1.5107308   | -1.5975324   | -2.4931508   |  0.09262136  | \n",
       "\n",
       "\n"
      ],
      "text/plain": [
       "  fruit_label fruit_name fruit_subtype scaled_mass scaled_width scaled_height\n",
       "1 1           apple      granny_smith   0.5249358   1.5850841   -0.2889166   \n",
       "2 1           apple      granny_smith   0.3068287   1.0954508   -0.6562889   \n",
       "3 1           apple      granny_smith   0.2341263   0.3610008   -0.3623910   \n",
       "4 2           mandarin   mandarin      -1.4016772  -1.1078991   -2.1992529   \n",
       "5 2           mandarin   mandarin      -1.4380284  -1.3527158   -2.2727273   \n",
       "6 2           mandarin   mandarin      -1.5107308  -1.5975324   -2.4931508   \n",
       "  scaled_color\n",
       "1 -2.76981970 \n",
       "2 -2.24937587 \n",
       "3 -2.11926491 \n",
       "4  0.48295423 \n",
       "5  0.35284327 \n",
       "6  0.09262136 "
      ]
     },
     "metadata": {},
     "output_type": "display_data"
    }
   ],
   "source": [
    "library(tidyverse)\n",
    "library(readr)\n",
    "fruitDat<- read_csv(\"fruit_data_with_colors.csv\")\n",
    "head(fruitDat)\n",
    "fruitDat_scaled <- fruitDat %>%\n",
    "  mutate(scaled_mass = scale(mass),\n",
    "         scaled_width = scale(width),\n",
    "         scaled_height = scale(height), \n",
    "         scaled_color = scale(color_score)) %>%\n",
    "select(fruit_label, fruit_name, fruit_subtype, scaled_mass, scaled_width, scaled_height, scaled_color)\n",
    "head(fruitDat_scaled)\n",
    "write_csv(fruitDat_scaled, \"fruitDat_scaled.csv\")"
   ]
  },
  {
   "cell_type": "code",
   "execution_count": null,
   "metadata": {},
   "outputs": [],
   "source": []
  },
  {
   "cell_type": "code",
   "execution_count": null,
   "metadata": {},
   "outputs": [],
   "source": []
  }
 ],
 "metadata": {
  "kernelspec": {
   "display_name": "R",
   "language": "R",
   "name": "ir"
  },
  "language_info": {
   "codemirror_mode": "r",
   "file_extension": ".r",
   "mimetype": "text/x-r-source",
   "name": "R",
   "pygments_lexer": "r",
   "version": "3.4.3"
  }
 },
 "nbformat": 4,
 "nbformat_minor": 2
}
